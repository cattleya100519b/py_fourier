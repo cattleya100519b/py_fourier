{
 "cells": [
  {
   "cell_type": "markdown",
   "id": "79e0a1b7",
   "metadata": {},
   "source": [
    "# 1. Pythonと便利なライブラリたち"
   ]
  },
  {
   "cell_type": "markdown",
   "id": "5700ed16",
   "metadata": {},
   "source": [
    "## 1.3 関数のベクトル化"
   ]
  },
  {
   "cell_type": "markdown",
   "id": "f0c284c2",
   "metadata": {},
   "source": [
    "- ユーザ定義関数の引数に配列(ndarray)を渡す場合、関数のベクトル化が有効"
   ]
  },
  {
   "cell_type": "markdown",
   "id": "c8facce3",
   "metadata": {},
   "source": [
    "- List 1.2 vectorize.py"
   ]
  },
  {
   "cell_type": "markdown",
   "id": "91d5e202",
   "metadata": {},
   "source": [
    "$$\n",
    "x(t) = \n",
    "    \\begin{cases}\n",
    "        -1 & (t < 0) \\\\\n",
    "        0 & (0 \\le t < 5) \\\\\n",
    "        1 & (5 \\le t)\n",
    "    \\end{cases}\n",
    "$$"
   ]
  },
  {
   "cell_type": "code",
   "execution_count": 15,
   "id": "2b687b0f",
   "metadata": {},
   "outputs": [],
   "source": [
    "import numpy as np"
   ]
  },
  {
   "cell_type": "code",
   "execution_count": 16,
   "id": "dc87067c",
   "metadata": {},
   "outputs": [],
   "source": [
    "def stepfun(t: float) -> int:\n",
    "    return\\\n",
    "    -1 if t < 0 else\\\n",
    "    0 if 0 <= t < 5 else\\\n",
    "    1"
   ]
  },
  {
   "cell_type": "code",
   "execution_count": 17,
   "id": "0f0ab892",
   "metadata": {},
   "outputs": [
    {
     "data": {
      "text/plain": [
       "numpy.vectorize"
      ]
     },
     "execution_count": 17,
     "metadata": {},
     "output_type": "execute_result"
    }
   ],
   "source": [
    "npstepfun = np.vectorize(stepfun)   # 関数のベクトル化\n",
    "type(npstepfun)"
   ]
  },
  {
   "cell_type": "code",
   "execution_count": 18,
   "id": "0fc98050",
   "metadata": {},
   "outputs": [
    {
     "name": "stdout",
     "output_type": "stream",
     "text": [
      "[-5. -4. -3. -2. -1.  0.  1.  2.  3.  4.  5.  6.  7.  8.  9. 10.]\n",
      "[-1 -1 -1 -1 -1  0  0  0  0  0  1  1  1  1  1  1]\n"
     ]
    }
   ],
   "source": [
    "print(t := np.linspace(-5,10,16))\n",
    "print(npstepfun(t))"
   ]
  }
 ],
 "metadata": {
  "kernelspec": {
   "display_name": "Python (Docker)",
   "language": "python",
   "name": "my_docker_kernel"
  },
  "language_info": {
   "codemirror_mode": {
    "name": "ipython",
    "version": 3
   },
   "file_extension": ".py",
   "mimetype": "text/x-python",
   "name": "python",
   "nbconvert_exporter": "python",
   "pygments_lexer": "ipython3",
   "version": "3.13.7"
  }
 },
 "nbformat": 4,
 "nbformat_minor": 5
}
